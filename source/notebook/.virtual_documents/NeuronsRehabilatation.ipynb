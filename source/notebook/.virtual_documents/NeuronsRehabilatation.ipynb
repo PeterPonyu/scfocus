


import torch.nn as nn
import scfocus
import scanpy as sc
import pandas as pd
import numpy as np
import joblib
import torch
import matplotlib.pyplot as plt
import seaborn as sns


cm = 1/2.54
sc.set_figure_params(figsize=(5*cm,5*cm),dpi=300,fontsize=10,frameon=False)


adata = joblib.load('adata')

adata


sc.pp.neighbors(adata, n_pcs=15)
sc.tl.umap(adata)


sc.pl.umap(adata, color='global_cell_type')


adata1 = adata[adata.obs['global_cell_type']=='Neurons']


sc.pp.neighbors(adata1)
sc.tl.umap(adata1)


sc.pl.umap(adata1)


pd.DataFrame(adata1.obsm['X_umap']).to_csv('Neurons.csv')


sc.pl.umap(adata1, color='label', groups=['EESREHAB','EESREHAB->EES','SCI','SCI->EES::walking','Uninjured']
           ,title='',legend_loc=None,s=5,na_color='w')


batches = ['EESREHAB','EESREHAB->EES','SCI','SCI->EES::walking','Uninjured']


mask = adata1.obs['label'].isin(batches)


with sns.axes_style('ticks'):
    fig = plt.figure(figsize=(1.5,2))
    sns.barplot(y=np.arange(5),x=np.unique(adata1.obs['label'][mask], return_counts=True)[1],orient='horizonal', palette=[lut[c] for c in batches],zorder=0)
    ax = plt.gca()
    ax.set_yticklabels(batches, fontdict={'ha':'left'},zorder=10)
    ax.tick_params(axis='y',pad=-4,zorder=10,left=False)
    ax.spines[['right','top']].set_visible(False)


focus = scfocus.focus(f, n=6, max_steps=3, pct_samples=.01).meta_focusing(3)


focus.merge_fp2()

mfp = focus.mfp[0]

for i in range(mfp.shape[1]):
    
    adata1.obs[f'f{i}'] = mfp[:, i]


sc.pl.umap(adata1, color=[f'f{i}' for i in range(mfp.shape[1])], cmap='viridis')


adata1.obsm['X_focus'] = adata1.obs[[f'f{i}' for i in range(11)]].values

sc.pp.neighbors(adata1, use_rep='X_focus')

sc.tl.umap(adata1, min_dist=.2)


sc.pl.umap(adata1, color=[f'f{i}' for i in range(mfp.shape[1])])


df = pd.DataFrame(mfp, index=adata1.obs_names)

df['label'] = adata1.obs['label']

df1 = df.groupby('label').mean()

df1 = df1[np.argsort(np.argmax(df1, axis=0))]

from sklearn.preprocessing import StandardScaler

df1 = pd.DataFrame(StandardScaler().fit_transform(df1.values), columns=df1.columns,index=df1.index)


df1.iloc[[0,1,5,6,7],:]


adata1.obs['F1'] = adata1.obs[['f0','f1','f4','f7','f8','f9']].mean(axis=1)

adata1.obs['F_2'] = adata1.obs[['f5','f2','f3','f6','f10']].mean(axis=1)


del adata1.obs['F2']


import gc


sc.pl.umap(adata1, color='F1', title='', show=False)
plt.savefig(f'REHAB1.png', dpi=1000, bbox_inches='tight', transparent=True)


sc.pl.umap(adata1, color='F_2', title='', show=False)
plt.savefig(f'REHAB2.png', dpi=1000, bbox_inches='tight', transparent=True)


lut = dict(zip(adata1.obs['label'].cat.categories, adata1.uns['label_colors']))


with sns.axes_style('white'):
    fig = plt.figure(figsize=(3,2))
    sns.heatmap(df1.iloc[[0,1,5,6,7],:], xticklabels=True, lw=.5, cmap='RdBu_r')
    ax = plt.gca()

ax.set_ylabel('')
for tick in ax.get_xticklabels():
    tick.set_rotation(0)

for tick in ax.get_yticklabels():
    tick.set_color(lut[tick.get_text()])


exp = adata1[:,adata1.var['highly_variable']].to_df()

exp['F_1'] = adata1.obs['F1']
exp['F_2'] = adata1.obs['F_2']


corr = np.corrcoef(exp.values.T)

corr = pd.DataFrame(corr, index=exp.columns, columns=exp.columns)


idx1 = corr['F_1'].sort_values(ascending=False).index

idx2 = corr['F_2'].sort_values(ascending=False).index

pd.DataFrame(idx1[1:51]).to_csv('Neuron_gs1.csv')

pd.DataFrame(idx2[1:51]).to_csv('Neuron_gs2.csv')


with sns.axes_style('white'):
    sns.heatmap(corr.loc[idx1,idx1].iloc[:20,:20])
    ax = plt.gca()
    ax.tick_params(labelleft=False,labelbottom=False)


with sns.axes_style('white'):
    sns.heatmap(corr.loc[idx2,idx2].iloc[:20,:20])
    ax = plt.gca()
    ax.tick_params(labelleft=False,labelbottom=False)


idx1


idx2


adata1.obs['F_1_exp'] = adata1[:,['Lrrtm4', 'Nrxn3', 'Gpc5', 'Cntn5', 'Galntl6']].to_df().mean(axis=1)

adata1.obs['F_2_exp'] = adata1[:,['Ebf1', 'Ebf2', 'Sst', 'Arhgap6', 'Cpne8']].to_df().mean(axis=1)


sc.pl.umap(adata1, color='F_1_exp',title='', cmap='Spectral_r')


sc.pl.umap(adata1, color='F_2_exp',title='', cmap='Spectral_r')


joblib.dump(focus, 'Neurons_focus')


joblib.dump(adata1, 'Neurons')


adata1
